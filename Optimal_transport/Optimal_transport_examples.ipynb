{
 "cells": [
  {
   "cell_type": "code",
   "execution_count": 1,
   "metadata": {
    "collapsed": true
   },
   "outputs": [],
   "source": [
    "from optimal_transport import compute_optimal_transport, OptimalTransport\n",
    "\n",
    "import seaborn as sns\n",
    "import matplotlib.pyplot as plt\n",
    "sns.set_style('white')\n",
    "import pandas as pd\n",
    "import numpy as np\n",
    "from sklearn.metrics.pairwise import pairwise_distances\n",
    "\n",
    "%matplotlib inline"
   ]
  },
  {
   "cell_type": "markdown",
   "metadata": {},
   "source": [
    "## The dessert problem"
   ]
  },
  {
   "cell_type": "code",
   "execution_count": 2,
   "metadata": {
    "collapsed": true
   },
   "outputs": [],
   "source": [
    "from desserts import preferences, portions_per_person,quantities_of_dessert"
   ]
  },
  {
   "cell_type": "markdown",
   "metadata": {},
   "source": [
    "Take a look at the preferences for desserts in the [KERMIT](kermit.ugent.be) research unit."
   ]
  },
  {
   "cell_type": "code",
   "execution_count": 3,
   "metadata": {},
   "outputs": [
    {
     "data": {
      "text/html": [
       "<div>\n",
       "<table border=\"1\" class=\"dataframe\">\n",
       "  <thead>\n",
       "    <tr style=\"text-align: right;\">\n",
       "      <th></th>\n",
       "      <th>merveilleux</th>\n",
       "      <th>eclair</th>\n",
       "      <th>chocolate mousse</th>\n",
       "      <th>bavarois</th>\n",
       "      <th>carrot cake</th>\n",
       "    </tr>\n",
       "  </thead>\n",
       "  <tbody>\n",
       "    <tr>\n",
       "      <th>Bernard</th>\n",
       "      <td>2.0</td>\n",
       "      <td>2</td>\n",
       "      <td>1</td>\n",
       "      <td>0</td>\n",
       "      <td>0</td>\n",
       "    </tr>\n",
       "    <tr>\n",
       "      <th>Jan</th>\n",
       "      <td>0.0</td>\n",
       "      <td>-2</td>\n",
       "      <td>-2</td>\n",
       "      <td>-2</td>\n",
       "      <td>2</td>\n",
       "    </tr>\n",
       "    <tr>\n",
       "      <th>Willem</th>\n",
       "      <td>1.0</td>\n",
       "      <td>2</td>\n",
       "      <td>2</td>\n",
       "      <td>2</td>\n",
       "      <td>-1</td>\n",
       "    </tr>\n",
       "    <tr>\n",
       "      <th>Hilde</th>\n",
       "      <td>2.0</td>\n",
       "      <td>1</td>\n",
       "      <td>0</td>\n",
       "      <td>1</td>\n",
       "      <td>-1</td>\n",
       "    </tr>\n",
       "    <tr>\n",
       "      <th>Steffie</th>\n",
       "      <td>0.5</td>\n",
       "      <td>2</td>\n",
       "      <td>2</td>\n",
       "      <td>1</td>\n",
       "      <td>0</td>\n",
       "    </tr>\n",
       "    <tr>\n",
       "      <th>Marlies</th>\n",
       "      <td>0.0</td>\n",
       "      <td>1</td>\n",
       "      <td>1</td>\n",
       "      <td>1</td>\n",
       "      <td>-1</td>\n",
       "    </tr>\n",
       "    <tr>\n",
       "      <th>Tim</th>\n",
       "      <td>-2.0</td>\n",
       "      <td>2</td>\n",
       "      <td>2</td>\n",
       "      <td>1</td>\n",
       "      <td>1</td>\n",
       "    </tr>\n",
       "    <tr>\n",
       "      <th>Wouter</th>\n",
       "      <td>2.0</td>\n",
       "      <td>1</td>\n",
       "      <td>2</td>\n",
       "      <td>1</td>\n",
       "      <td>-1</td>\n",
       "    </tr>\n",
       "  </tbody>\n",
       "</table>\n",
       "</div>"
      ],
      "text/plain": [
       "         merveilleux  eclair  chocolate mousse  bavarois  carrot cake\n",
       "Bernard          2.0       2                 1         0            0\n",
       "Jan              0.0      -2                -2        -2            2\n",
       "Willem           1.0       2                 2         2           -1\n",
       "Hilde            2.0       1                 0         1           -1\n",
       "Steffie          0.5       2                 2         1            0\n",
       "Marlies          0.0       1                 1         1           -1\n",
       "Tim             -2.0       2                 2         1            1\n",
       "Wouter           2.0       1                 2         1           -1"
      ]
     },
     "execution_count": 3,
     "metadata": {},
     "output_type": "execute_result"
    }
   ],
   "source": [
    "preferences"
   ]
  },
  {
   "cell_type": "code",
   "execution_count": 4,
   "metadata": {
    "collapsed": true
   },
   "outputs": [],
   "source": [
    "M = - preferences.values  # cost is negative preferences"
   ]
  },
  {
   "cell_type": "markdown",
   "metadata": {},
   "source": [
    "How many portions per person."
   ]
  },
  {
   "cell_type": "code",
   "execution_count": 5,
   "metadata": {
    "scrolled": true
   },
   "outputs": [
    {
     "data": {
      "image/png": "[encoded data removed]",
      "text/plain": [
       "<matplotlib.figure.Figure at 0x10f1695f8>"
      ]
     },
     "metadata": {},
     "output_type": "display_data"
    }
   ],
   "source": [
    "ax = portions_per_person.plot(kind='bar')\n",
    "ax.set_ylabel('Portions')\n",
    "r = portions_per_person.values.ravel()  # store as vector"
   ]
  },
  {
   "cell_type": "markdown",
   "metadata": {},
   "source": [
    "How much of every dessert."
   ]
  },
  {
   "cell_type": "code",
   "execution_count": 6,
   "metadata": {
    "scrolled": false
   },
   "outputs": [
    {
     "data": {
      "image/png": "[encoded data removed]",
      "text/plain": [
       "<matplotlib.figure.Figure at 0x10f169ef0>"
      ]
     },
     "metadata": {},
     "output_type": "display_data"
    }
   ],
   "source": [
    "ax = quantities_of_dessert.plot(kind='bar')\n",
    "ax.set_ylabel('Portions')\n",
    "c = quantities_of_dessert.values.ravel()  # store as vector"
   ]
  },
  {
   "cell_type": "markdown",
   "metadata": {},
   "source": [
    "Compute optimal transport (low entropic regularization)."
   ]
  },
  {
   "cell_type": "code",
   "execution_count": 7,
   "metadata": {
    "scrolled": false
   },
   "outputs": [
    {
     "name": "stdout",
     "output_type": "stream",
     "text": [
      "Sinkhorn distance: -35.99488284337748\n"
     ]
    },
    {
     "data": {
      "text/plain": [
       "<matplotlib.text.Text at 0x10f706630>"
      ]
     },
     "execution_count": 7,
     "metadata": {},
     "output_type": "execute_result"
    },
    {
     "data": {
      "image/png": "[encoded data removed]",
      "text/plain": [
       "<matplotlib.figure.Figure at 0x10f29b080>"
      ]
     },
     "metadata": {},
     "output_type": "display_data"
    }
   ],
   "source": [
    "lam = 10\n",
    "\n",
    "P, d = compute_optimal_transport(M,\n",
    "        r,\n",
    "        c, lam=lam)\n",
    "\n",
    "partition = pd.DataFrame(P, index=preferences.index, columns=preferences.columns)\n",
    "ax = partition.plot(kind='bar', stacked=True)\n",
    "print('Sinkhorn distance: {}'.format(d))\n",
    "ax.set_ylabel('portions')\n",
    "ax.set_title('Optimal distribtution ($\\lambda={}$)'.format(lam))"
   ]
  },
  {
   "cell_type": "code",
   "execution_count": 8,
   "metadata": {
    "scrolled": true
   },
   "outputs": [
    {
     "name": "stdout",
     "output_type": "stream",
     "text": [
      "Sinkhorn distance: -29.626499497606346\n"
     ]
    },
    {
     "data": {
      "text/plain": [
       "<matplotlib.text.Text at 0x110055c88>"
      ]
     },
     "execution_count": 8,
     "metadata": {},
     "output_type": "execute_result"
    },
    {
     "data": {
      "image/png": "[encoded data removed]",
      "text/plain": [
       "<matplotlib.figure.Figure at 0x10f7366d8>"
      ]
     },
     "metadata": {},
     "output_type": "display_data"
    }
   ],
   "source": [
    "lam = 1\n",
    "\n",
    "P, d = compute_optimal_transport(M,\n",
    "        r,\n",
    "        c, lam=lam)\n",
    "\n",
    "partition = pd.DataFrame(P, index=preferences.index, columns=preferences.columns)\n",
    "ax = partition.plot(kind='bar', stacked=True)\n",
    "print('Sinkhorn distance: {}'.format(d))\n",
    "ax.set_ylabel('portions')\n",
    "ax.set_title('Optimal distribtution ($\\lambda={}$)'.format(lam))"
   ]
  },
  {
   "cell_type": "code",
   "execution_count": 9,
   "metadata": {},
   "outputs": [
    {
     "ename": "NameError",
     "evalue": "name 'X' is not defined",
     "output_type": "error",
     "traceback": [
      "\u001b[0;31m---------------------------------------------------------------------------\u001b[0m",
      "\u001b[0;31mNameError\u001b[0m                                 Traceback (most recent call last)",
      "\u001b[0;32m<ipython-input-9-253bcac7dd80>\u001b[0m in \u001b[0;36m<module>\u001b[0;34m()\u001b[0m\n\u001b[0;32m----> 1\u001b[0;31m \u001b[0mX\u001b[0m\u001b[0;34m\u001b[0m\u001b[0m\n\u001b[0m",
      "\u001b[0;31mNameError\u001b[0m: name 'X' is not defined"
     ]
    }
   ],
   "source": [
    "X"
   ]
  },
  {
   "cell_type": "markdown",
   "metadata": {},
   "source": [
    "## Matching distributions: circles"
   ]
  },
  {
   "cell_type": "code",
   "execution_count": null,
   "metadata": {
    "collapsed": true
   },
   "outputs": [],
   "source": [
    "from sklearn.datasets import make_circles\n",
    "\n",
    "# two concentric circles\n",
    "X, y = make_circles(n_samples=500, noise=0.05,\n",
    "                    factor=0.5, shuffle=False)\n",
    "X1 = X[y==0]\n",
    "X2 = X[y==1]\n",
    "\n",
    "n, m = len(X1), len(X2)"
   ]
  },
  {
   "cell_type": "code",
   "execution_count": null,
   "metadata": {
    "collapsed": true,
    "scrolled": true
   },
   "outputs": [],
   "source": [
    "ot2d = OptimalTransport(X1, X2, lam=100)"
   ]
  },
  {
   "cell_type": "code",
   "execution_count": null,
   "metadata": {
    "scrolled": true
   },
   "outputs": [],
   "source": [
    "plt.imshow(ot2d.P)"
   ]
  },
  {
   "cell_type": "code",
   "execution_count": null,
   "metadata": {
    "scrolled": true
   },
   "outputs": [],
   "source": [
    "fig, ax = plt.subplots()\n",
    "\n",
    "ax.scatter(X1[:,0], X1[:,1], color='blue', label='set 1')\n",
    "ax.scatter(X2[:,0], X2[:,1], color='orange', label='set 2')\n",
    "\n",
    "ax.legend(loc=0)"
   ]
  },
  {
   "cell_type": "code",
   "execution_count": null,
   "metadata": {
    "scrolled": true
   },
   "outputs": [],
   "source": [
    "fig, ax = plt.subplots()\n",
    "\n",
    "ax.scatter(X1[:,0], X1[:,1], color='blue')\n",
    "ax.scatter(X2[:,0], X2[:,1], color='orange')\n",
    "ax.scatter(X1[:,0], X1[:,1], color='blue', label='set 1')\n",
    "ax.scatter(X2[:,0], X2[:,1], color='orange', label='set 2')\n",
    "\n",
    "ax.legend(loc=0)\n",
    "\n",
    "for i in range(n):\n",
    "    for j in range(m):\n",
    "        if ot2d.P[i,j] > 1e-5:\n",
    "            ax.plot([X1[i,0], X2[j,0]], [X1[i,1], X2[j,1]], alpha=ot2d.P[i,j] * n, color='red')\n",
    "    "
   ]
  },
  {
   "cell_type": "code",
   "execution_count": null,
   "metadata": {
    "scrolled": false
   },
   "outputs": [],
   "source": [
    "X, w = ot2d.interpolate(0.6)\n",
    "fig, ax = plt.subplots()\n",
    "\n",
    "ax.scatter(X1[:,0], X1[:,1], color='blue', label='set 1')\n",
    "ax.scatter(X2[:,0], X2[:,1], color='orange', label='set 2')\n",
    "\n",
    "ax.scatter(X[:,0], X[:,1], color='red', label='interpolation')\n",
    "ax.legend(loc=0)"
   ]
  },
  {
   "cell_type": "markdown",
   "metadata": {},
   "source": [
    "## Domain transfer\n",
    "\n",
    "We make a small classification problem and divide in train and test. The test set is perturbated (shift + noise)"
   ]
  },
  {
   "cell_type": "code",
   "execution_count": null,
   "metadata": {
    "collapsed": true
   },
   "outputs": [],
   "source": [
    "from sklearn.datasets import make_blobs\n",
    "from sklearn.model_selection import train_test_split\n",
    "\n",
    "\n",
    "Xtr, Xte, ytr, yte = train_test_split(*make_blobs(n_samples=200, cluster_std=1.5), test_size=0.5)\n",
    "\n",
    "Xte += np.random.randn(*Xte.shape) * 2 + np.array([[2, -3]]) "
   ]
  },
  {
   "cell_type": "code",
   "execution_count": null,
   "metadata": {
    "scrolled": true
   },
   "outputs": [],
   "source": [
    "fig, ax = plt.subplots()\n",
    "\n",
    "for cl, col in zip(range(3), ['blue','orange', 'green']):\n",
    "    X = Xtr[ytr==cl,:]\n",
    "    ax.scatter(X[:,0], X[:,1], color=col, label='class {}'.format(cl+1))\n",
    "    \n",
    "ax.scatter(Xte[:,0], Xte[:,1], color='gray', alpha=0.8, label='test') \n",
    "\n",
    "ax.legend(loc=0)"
   ]
  },
  {
   "cell_type": "code",
   "execution_count": null,
   "metadata": {
    "collapsed": true
   },
   "outputs": [],
   "source": [
    "ot_dom_adap = OptimalTransport(Xtr, Xte, lam=50)"
   ]
  },
  {
   "cell_type": "code",
   "execution_count": null,
   "metadata": {},
   "outputs": [],
   "source": [
    "fig, ax = plt.subplots()\n",
    "\n",
    "\n",
    "\n",
    "for i in range(100):\n",
    "    for j in range(100):\n",
    "        if ot_dom_adap.P[i,j] > 1e-4:\n",
    "            ax.plot([Xtr[i,0], Xte[j,0]], [Xtr[i,1], Xte[j,1]], color='red', alpha=ot_dom_adap.P[i,j]*100)\n",
    "            \n",
    "for cl, col in zip(range(3), ['blue','orange', 'green']):\n",
    "    X = Xtr[ytr==cl,:]\n",
    "    ax.scatter(X[:,0], X[:,1], color=col, label='class {}'.format(cl+1))\n",
    "    \n",
    "ax.scatter(Xte[:,0], Xte[:,1], color='gray', alpha=0.8, label='test')\n",
    "            \n",
    "ax.legend(loc=0)"
   ]
  },
  {
   "cell_type": "markdown",
   "metadata": {
    "collapsed": true
   },
   "source": [
    "## Color transfer\n",
    "\n",
    "See `color_transfer.py` module!"
   ]
  },
  {
   "cell_type": "markdown",
   "metadata": {},
   "source": [
    "Image from:\n",
    "\n",
    "![Princess Caroline](Figures/PC.jpg)\n",
    "\n",
    "Image to:\n",
    "\n",
    "![Mr. Peanutbutter](Figures/PB.jpg)"
   ]
  },
  {
   "cell_type": "code",
   "execution_count": null,
   "metadata": {},
   "outputs": [],
   "source": [
    "!python color_transfer.py --f Figures/PB.jpg --t Figures/PC.jpg -o Figures/PB2PC.jpg -metric 'mahalanobis' -lam 10 -save_color_distribution 1"
   ]
  },
  {
   "cell_type": "markdown",
   "metadata": {},
   "source": [
    "![Color distributions](color_distributions.png)"
   ]
  },
  {
   "cell_type": "markdown",
   "metadata": {},
   "source": [
    "Result:\n",
    "\n",
    "![Colors of mr. Peanutbutter to Princess caroline.](Figures/PB2PC.jpg)"
   ]
  },
  {
   "cell_type": "markdown",
   "metadata": {},
   "source": [
    "## References\n",
    "\n",
    "Lévy, B. and Schwindt, E. (2017). *Notions of optimal transport theory and how to implement them on a computer* [arxiv](https://arxiv.org/pdf/1710.02634.pdf)\n",
    "\n",
    "Courty, N., Flamary, R., Tuia, D. and Rakotomamonjy, A. (2016). *Optimal transport for domain adaptation*\n",
    "\n",
    "Cuturi, M. (2013) *Sinkhorn distances: lightspeed computation of optimal transportation distances*\n"
   ]
  },
  {
   "cell_type": "code",
   "execution_count": null,
   "metadata": {
    "collapsed": true
   },
   "outputs": [],
   "source": []
  }
 ],
 "metadata": {
  "anaconda-cloud": {},
  "kernelspec": {
   "display_name": "Python [conda root]",
   "language": "python",
   "name": "conda-root-py"
  },
  "language_info": {
   "codemirror_mode": {
    "name": "ipython",
    "version": 3
   },
   "file_extension": ".py",
   "mimetype": "text/x-python",
   "name": "python",
   "nbconvert_exporter": "python",
   "pygments_lexer": "ipython3",
   "version": "3.5.2"
  }
 },
 "nbformat": 4,
 "nbformat_minor": 1
}
